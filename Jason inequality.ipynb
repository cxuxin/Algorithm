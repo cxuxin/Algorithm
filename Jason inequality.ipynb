{
 "cells": [
  {
   "cell_type": "markdown",
   "metadata": {},
   "source": [
    "# 第二次作业\n"
   ]
  },
  {
   "cell_type": "markdown",
   "metadata": {},
   "source": [
    "## 问题一"
   ]
  },
  {
   "cell_type": "markdown",
   "metadata": {},
   "source": [
    "$~~~~$ Suppose we want to estimate $x^{'}s $ distribution $p(x)$. We can get $x^{'}s $ proportions $g(x)$, when sampling according to a proposal distribution $q(x)$. Since ${p(x) = \\frac{g(x)}{\\int g(x)d_x}}$ , we want $Z={\\int g(x)d_x}$. Note the integration is intractable (why), so $q(x)$ is required. <br />\n",
    "$~~~~$ (1) Prove that  $ln(Z) \\geq E_q{[ln(g) - ln(q)]}$  <br />\n",
    "$~~~~$ (2) Prove that  $Z^2 \\leq E_q{[g^2 / q^2]}$ "
   ]
  },
  {
   "cell_type": "markdown",
   "metadata": {},
   "source": [
    "(1)解：<br />\n",
    "$~~~~~~~~$ $E_q{[ln(g) - ln(q)]} = E_q{(ln{\\frac{g}{q}})}$ <br /> \n",
    "$\\qquad$ $\\because$ $ln(X)$ 是凹函数<br /> \n",
    "$\\qquad$ $\\therefore$ 由简森不等式可得<br />\n",
    "$\\qquad$ $E_q{(ln{\\frac{g}{q}})} \\leq ln{(E_q{(\\frac{g}{q})})}$<br />\n",
    "$\\qquad$ 又$\\because$ $ln{(E_q{(\\frac{g}{q})})} = ln(\\int{\\frac{g(x)}{q(x)} \\cdot q(x)d_x})$<br />\n",
    "$\\qquad\\qquad\\qquad\\quad~$ $ = ln(\\int{g(x)d_x})$<br />\n",
    "$\\qquad\\qquad\\qquad\\quad~$ $ = ln(Z)$<br />\n",
    "$\\qquad$ $\\therefore$ $ E_q{[ln(g) - ln(q)]} \\le ln(Z)$<br />\n",
    "$\\qquad$ 即$~~$ $ln(Z) \\geq E_q{[ln(g) - ln(q)]}$<br />"
   ]
  },
  {
   "cell_type": "markdown",
   "metadata": {},
   "source": [
    "(2)解：<br />\n",
    "$\\qquad$ $\\because$ $X^2$ 是凸函数<br />\n",
    "$\\qquad$ $\\therefore$ 由简森不等式可得<br />\n",
    "$\\qquad$ $E_q{[(\\frac{g}{q})^2]} \\geq [E_q{(\\frac{g}{q})}]^2$<br />\n",
    "$\\qquad$ $\\because$ $E_q{(\\frac{g}{q})} = Z$<br />\n",
    "$\\qquad$ $\\therefore$ $E_q{[\\frac{g}{q})^2]} \\geq Z^2$<br />\n",
    "$\\qquad$ 即$~~$ $Z^2 \\leq E_q{[g^2 / q^2]}$"
   ]
  },
  {
   "cell_type": "markdown",
   "metadata": {},
   "source": [
    "## 问题二"
   ]
  },
  {
   "cell_type": "markdown",
   "metadata": {},
   "source": [
    "(1)解：<br />\n",
    "已知 $w_i = \\frac{p(x^{(i)})}{q(x^{(i)})}$ 其中$q(x)$表示$x$从$q(x)$分布中进行采样,$q(x)$表示$x$ 的真实分布。<br />\n",
    "$\\qquad$${\\mu}^{*} = \\frac{\\sum_{i}w_i h(x^{(i)})}{\\sum_{i}w_i}$ <br />\n",
    "$\\qquad$$\\quad$$\\simeq \\frac{\\int{\\frac{p(x)}{q(x)}h(x)q(x)d_x}}{\\int{\\frac{p(x)}{q(x)}q(x)d_x}}$<br />\n",
    "$\\qquad$$\\quad$$=\\frac{\\int{p(x)h(x)d_x}}{\\int{p(x)d_x}}$<br />\n",
    "$\\qquad$$\\because \\int{p(x)d_x} = 1$<br />\n",
    "$\\qquad$$\\therefore {\\mu}^{*} \\simeq \\int{p(x)h(x)d_x}$<br />\n",
    "$\\qquad$$\\qquad$$= E_q[h(x)]$<br />\n",
    "所以当$w_i = \\frac{p(x^{(i)})}{q(x^{(i)})}$时${\\mu}^{*}$渐进无偏。"
   ]
  },
  {
   "cell_type": "markdown",
   "metadata": {},
   "source": [
    "(2)解：<br />\n",
    "$\\qquad$已知$Var_q[wh(x)] = {E_q}^2[wh(x)] - E_q[{(wh(x))}^2]$,假设动态估计方法的方差为${Var}^{*}$ ,权重和为$Z = \\sum_{i}w_i$ 则有:<br />\n",
    "$\\qquad$ ${Var}^{*} = Var_q[\\frac{w}{Z}h(x)] $<br />\n",
    "$\\qquad$$\\qquad$ $=E_q^2[\\frac{w}{Z}h(x)]- E_q[{(\\frac{w}{Z}h(x))}^2]$<br />\n",
    "$\\qquad$$\\qquad$ $=\\frac{1}{Z^2}(E_q^2[wh(x)]-E_q[{(wh(x))}^2])$<br />\n",
    "$\\qquad$$\\qquad$ $=\\frac{1}{Z^2}Var_q[wh(x)]$<br />\n",
    "由上式可以得出，当$Z \\geq 1$时$Var_q[wh(x)] \\geq Var^{*}$<br />\n",
    "综上所述，估计量$\\mu^*$渐进无偏且方差更校，因此$\\mu^*$是合适的"
   ]
  }
 ],
 "metadata": {
  "kernelspec": {
   "display_name": "Python 3",
   "language": "python",
   "name": "python3"
  },
  "language_info": {
   "codemirror_mode": {
    "name": "ipython",
    "version": 3
   },
   "file_extension": ".py",
   "mimetype": "text/x-python",
   "name": "python",
   "nbconvert_exporter": "python",
   "pygments_lexer": "ipython3",
   "version": "3.7.3"
  }
 },
 "nbformat": 4,
 "nbformat_minor": 4
}
