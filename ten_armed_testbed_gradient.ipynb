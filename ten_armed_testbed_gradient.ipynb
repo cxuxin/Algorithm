{
 "cells": [
  {
   "cell_type": "markdown",
   "metadata": {},
   "source": [
    "# 第十次作业"
   ]
  },
  {
   "cell_type": "markdown",
   "metadata": {},
   "source": [
    "## 十臂赌博机(梯度赌博机算法)    "
   ]
  },
  {
   "cell_type": "markdown",
   "metadata": {},
   "source": [
    "$$\\begin{equation}\n",
    "\\begin{aligned} \n",
    "\\beta _n &= \\alpha ~/ ~o_n \\\\\n",
    "o_n &= o_{n-1} + \\alpha(1-o_{n-1}) \\\\\n",
    "&= o_{n-1}(1- \\alpha) + \\alpha \\\\\n",
    "&= [o_{n-2}(1- \\alpha) + \\alpha](1-\\alpha) + \\alpha \\\\\n",
    "&= o_{n-2}(1- \\alpha)^2 + \\alpha (1 - \\alpha) + \\alpha \\\\\n",
    "& ... \\\\\n",
    "&= o_1(1-\\alpha)^{n-1} + \\alpha(1-\\alpha)^{n-2} + ...+ \\alpha (1 - \\alpha) + \\alpha\\\\\n",
    "&= \\alpha(1-\\alpha)^{n-1} + \\alpha(1-\\alpha)^{n-2} + ...+ \\alpha (1 - \\alpha) + \\alpha \\\\\n",
    "&= 1 - (1-\\alpha)^{n} \\\\\n",
    "\\beta _n &= \\alpha ~/ [1 - (1-\\alpha)^{n}]\n",
    "\\end{aligned}\n",
    "\\end{equation}$$\n"
   ]
  },
  {
   "cell_type": "code",
   "execution_count": 2,
   "metadata": {},
   "outputs": [],
   "source": [
    "import matplotlib.pyplot as plt\n",
    "import numpy as np\n",
    "from tqdm import trange"
   ]
  },
  {
   "cell_type": "code",
   "execution_count": 3,
   "metadata": {},
   "outputs": [],
   "source": [
    "class Bandit:\n",
    "    def __init__(self, k_arm=10, epsilon=0., initial=0., step_size=0.1,\n",
    "                  gradient_baseline=False, true_reward=0.):\n",
    "        self.k = k_arm\n",
    "        self.step_size = step_size\n",
    "        self.indices = np.arange(self.k)\n",
    "        self.time = 0\n",
    "        self.gradient_baseline = gradient_baseline\n",
    "        self.average_reward = 0\n",
    "        self.true_reward = true_reward\n",
    "        self.epsilon = epsilon\n",
    "        self.initial = initial\n",
    "\n",
    "    def reset(self):\n",
    "        # 每个动作的真实reward\n",
    "        self.q_true = np.random.randn(self.k) + self.true_reward\n",
    "\n",
    "        # 每个动作的估计\n",
    "        self.q_estimation = np.zeros(self.k) + self.initial\n",
    "\n",
    "        # 每个动作被选择的次数\n",
    "        self.action_count = np.zeros(self.k)\n",
    "\n",
    "        self.best_action = np.argmax(self.q_true)\n",
    "\n",
    "        self.time = 0\n",
    "\n",
    "    # 对当前赌博机选择要执行的动作\n",
    "    def act(self):\n",
    "        if np.random.rand() < self.epsilon:\n",
    "            return np.random.choice(self.indices)\n",
    "\n",
    "        exp_est = np.exp(self.q_estimation)\n",
    "        self.action_prob = exp_est / np.sum(exp_est)\n",
    "        return np.random.choice(self.indices, p=self.action_prob)\n",
    "\n",
    "    # 执行动作，更新动作的估值\n",
    "    def step(self, action):\n",
    "        # 生成动作的reward\n",
    "        reward = np.random.randn() + self.q_true[action]\n",
    "        self.time += 1\n",
    "        self.action_count[action] += 1\n",
    "        self.average_reward += (reward - self.average_reward) / self.time\n",
    "\n",
    "        one_hot = np.zeros(self.k)\n",
    "        one_hot[action] = 1\n",
    "        if self.gradient_baseline:\n",
    "            baseline = self.average_reward\n",
    "        else:\n",
    "            baseline = 0\n",
    "        \n",
    "        # 更新估值\n",
    "        beta = (self.step_size) / (1 - pow(1 - self.step_size, self.time))\n",
    "        self.q_estimation += beta * (reward - baseline) * (one_hot - self.action_prob)\n",
    "        return reward"
   ]
  },
  {
   "cell_type": "code",
   "execution_count": 4,
   "metadata": {},
   "outputs": [],
   "source": [
    "def simulate(runs, time, bandits):\n",
    "    rewards = np.zeros((len(bandits), runs, time))\n",
    "    best_action_counts = np.zeros(rewards.shape)\n",
    "    for i, bandit in enumerate(bandits):\n",
    "        for r in trange(runs):\n",
    "            bandit.reset()\n",
    "            for t in range(time):\n",
    "                action = bandit.act()\n",
    "                reward = bandit.step(action)\n",
    "                rewards[i, r, t] = reward\n",
    "                if action == bandit.best_action:\n",
    "                    best_action_counts[i, r, t] = 1\n",
    "    mean_best_action_counts = best_action_counts.mean(axis=1)\n",
    "    mean_rewards = rewards.mean(axis=1)\n",
    "    return mean_best_action_counts, mean_rewards"
   ]
  },
  {
   "cell_type": "code",
   "execution_count": 11,
   "metadata": {},
   "outputs": [],
   "source": [
    "def show(runs=2000, time=1000):\n",
    "    bandits = []\n",
    "    bandits.append(Bandit(step_size=0.1, gradient_baseline=True, true_reward=4))\n",
    "    bandits.append(Bandit(step_size=0.1, gradient_baseline=False, true_reward=4))\n",
    "    bandits.append(Bandit(step_size=0.4, gradient_baseline=True, true_reward=4))\n",
    "    bandits.append(Bandit(step_size=0.4, gradient_baseline=False, true_reward=4))\n",
    "    best_action_counts, _ = simulate(runs, time, bandits)\n",
    "    labels = ['alpha = 0.1, with baseline',\n",
    "              'alpha = 0.1, without baseline',\n",
    "              'alpha = 0.4, with baseline',\n",
    "              'alpha = 0.4, without baseline']\n",
    "\n",
    "    for i in range(len(bandits)):\n",
    "        plt.plot(best_action_counts[i], label=labels[i])\n",
    "    plt.xlabel('Steps')\n",
    "    plt.ylabel('% Optimal action')\n",
    "    plt.legend(loc='lower right')\n",
    "\n",
    "    # plt.savefig('images/figure_2_5.png')\n",
    "    plt.show()\n",
    "    plt.close()"
   ]
  },
  {
   "cell_type": "code",
   "execution_count": 12,
   "metadata": {},
   "outputs": [
    {
     "name": "stderr",
     "output_type": "stream",
     "text": [
      "100%|██████████████████████████████████████████████████████████████████████████████| 2000/2000 [01:38<00:00, 20.35it/s]\n",
      "100%|██████████████████████████████████████████████████████████████████████████████| 2000/2000 [01:31<00:00, 21.86it/s]\n",
      "100%|██████████████████████████████████████████████████████████████████████████████| 2000/2000 [01:30<00:00, 22.02it/s]\n",
      "100%|██████████████████████████████████████████████████████████████████████████████| 2000/2000 [01:30<00:00, 22.05it/s]\n"
     ]
    },
    {
     "data": {
      "image/png": "[encoded data removed]",
      "text/plain": [
       "<Figure size 432x288 with 1 Axes>"
      ]
     },
     "metadata": {
      "needs_background": "light"
     },
     "output_type": "display_data"
    }
   ],
   "source": [
    "show()"
   ]
  },
  {
   "cell_type": "code",
   "execution_count": null,
   "metadata": {},
   "outputs": [],
   "source": []
  }
 ],
 "metadata": {
  "kernelspec": {
   "display_name": "Python 3",
   "language": "python",
   "name": "python3"
  },
  "language_info": {
   "codemirror_mode": {
    "name": "ipython",
    "version": 3
   },
   "file_extension": ".py",
   "mimetype": "text/x-python",
   "name": "python",
   "nbconvert_exporter": "python",
   "pygments_lexer": "ipython3",
   "version": "3.7.3"
  }
 },
 "nbformat": 4,
 "nbformat_minor": 4
}
