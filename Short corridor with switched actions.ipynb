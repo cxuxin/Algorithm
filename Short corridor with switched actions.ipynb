{
 "cells": [
  {
   "cell_type": "markdown",
   "metadata": {},
   "source": [
    "# 第十一次作业"
   ]
  },
  {
   "cell_type": "markdown",
   "metadata": {},
   "source": [
    "## Short corridor with switched actions"
   ]
  },
  {
   "cell_type": "code",
   "execution_count": 1,
   "metadata": {},
   "outputs": [],
   "source": [
    "import numpy as np\n",
    "import matplotlib.pyplot as plt\n",
    "from tqdm import tqdm"
   ]
  },
  {
   "cell_type": "code",
   "execution_count": 2,
   "metadata": {},
   "outputs": [],
   "source": [
    "def true_value(p):\n",
    "    return (2 * p - 4) / (p * (1 - p))"
   ]
  },
  {
   "cell_type": "code",
   "execution_count": 3,
   "metadata": {},
   "outputs": [],
   "source": [
    "class ShortCorridor:\n",
    "    def __init__(self):\n",
    "        self.reset()\n",
    "\n",
    "    def reset(self):\n",
    "        self.state = 0\n",
    "\n",
    "    def step(self, go_right):\n",
    "        if self.state == 0 or self.state == 2:\n",
    "            if go_right:\n",
    "                self.state += 1\n",
    "            else:\n",
    "                self.state = max(0, self.state - 1)\n",
    "        else:\n",
    "            if go_right:\n",
    "                self.state -= 1\n",
    "            else:\n",
    "                self.state += 1\n",
    "\n",
    "        if self.state == 3:\n",
    "            # terminal state\n",
    "            return 0, True\n",
    "        else:\n",
    "            return -1, False"
   ]
  },
  {
   "cell_type": "code",
   "execution_count": 4,
   "metadata": {},
   "outputs": [],
   "source": [
    "def softmax(x):\n",
    "    t = np.exp(x - np.max(x))\n",
    "    return t / np.sum(t)"
   ]
  },
  {
   "cell_type": "code",
   "execution_count": 5,
   "metadata": {},
   "outputs": [],
   "source": [
    "def trial(num_episodes, agent_generator):\n",
    "    env = ShortCorridor()\n",
    "    agent = agent_generator()\n",
    "\n",
    "    rewards = np.zeros(num_episodes)\n",
    "    for episode_idx in range(num_episodes):\n",
    "        rewards_sum = 0\n",
    "        reward = None\n",
    "        env.reset()\n",
    "\n",
    "        while True:\n",
    "            go_right = agent.choose_action(reward)\n",
    "            reward, episode_end = env.step(go_right)\n",
    "            rewards_sum += reward\n",
    "\n",
    "            if episode_end:\n",
    "                agent.episode_end(reward)\n",
    "                break\n",
    "\n",
    "        rewards[episode_idx] = rewards_sum\n",
    "\n",
    "    return rewards\n"
   ]
  },
  {
   "cell_type": "code",
   "execution_count": 6,
   "metadata": {},
   "outputs": [],
   "source": [
    "def show():\n",
    "    epsilon = 0.05\n",
    "    fig, ax = plt.subplots(1, 1)\n",
    "\n",
    "    # Plot a graph\n",
    "    p = np.linspace(0.01, 0.99, 100)\n",
    "    y = true_value(p)\n",
    "    ax.plot(p, y, color='red')\n",
    "\n",
    "    # Find a maximum point, can also be done analytically by taking a derivative\n",
    "    imax = np.argmax(y)\n",
    "    pmax = p[imax]\n",
    "    ymax = y[imax]\n",
    "    ax.plot(pmax, ymax, color='green', marker=\"*\", label=\"optimal point: f({0:.2f}) = {1:.2f}\".format(pmax, ymax))\n",
    "\n",
    "    # Plot points of two epsilon-greedy policies\n",
    "    ax.plot(epsilon, true_value(epsilon), color='magenta', marker=\"o\", label=\"epsilon-greedy left\")\n",
    "    ax.plot(1 - epsilon, true_value(1 - epsilon), color='blue', marker=\"o\", label=\"epsilon-greedy right\")\n",
    "\n",
    "    ax.set_ylabel(\"Value of the first state\")\n",
    "    ax.set_xlabel(\"Probability of the action 'right'\")\n",
    "    ax.set_title(\"Short corridor with switched actions\")\n",
    "    ax.set_ylim(ymin=-105.0, ymax=5)\n",
    "    ax.legend()\n",
    "\n",
    "    plt.show()\n",
    "    plt.close()"
   ]
  },
  {
   "cell_type": "code",
   "execution_count": 7,
   "metadata": {},
   "outputs": [
    {
     "data": {
      "image/png": "[encoded data removed]",
      "text/plain": [
       "<Figure size 432x288 with 1 Axes>"
      ]
     },
     "metadata": {
      "needs_background": "light"
     },
     "output_type": "display_data"
    }
   ],
   "source": [
    "show()"
   ]
  },
  {
   "cell_type": "code",
   "execution_count": null,
   "metadata": {},
   "outputs": [],
   "source": []
  }
 ],
 "metadata": {
  "kernelspec": {
   "display_name": "Python 3",
   "language": "python",
   "name": "python3"
  },
  "language_info": {
   "codemirror_mode": {
    "name": "ipython",
    "version": 3
   },
   "file_extension": ".py",
   "mimetype": "text/x-python",
   "name": "python",
   "nbconvert_exporter": "python",
   "pygments_lexer": "ipython3",
   "version": "3.7.3"
  }
 },
 "nbformat": 4,
 "nbformat_minor": 4
}
