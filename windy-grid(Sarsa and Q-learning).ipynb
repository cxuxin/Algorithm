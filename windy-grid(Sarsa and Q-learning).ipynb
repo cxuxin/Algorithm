{
 "cells": [
  {
   "cell_type": "markdown",
   "metadata": {},
   "source": [
    "# 第七次作业"
   ]
  },
  {
   "cell_type": "markdown",
   "metadata": {},
   "source": [
    "[参考资料](https://blog.csdn.net/u010089444/article/details/80516345)"
   ]
  },
  {
   "cell_type": "markdown",
   "metadata": {},
   "source": [
    "![Q-learing and sarsa](https://img-blog.csdn.net/20180530212805971?watermark/2/text/aHR0cHM6Ly9ibG9nLmNzZG4ubmV0L3UwMTAwODk0NDQ=/font/5a6L5L2T/fontsize/400/fill/I0JBQkFCMA==/dissolve/70)"
   ]
  },
  {
   "cell_type": "markdown",
   "metadata": {},
   "source": [
    "&emsp;&emsp;当Sarsa 和 Q-Learning处在状态s时，均选择可带来最大回报的动作a，这样可到达状态s’。而在下一步，如果使用Q-Learning， 则会观察在s’上哪个动作会带来最大回报（不会真正执行该动作，仅用来更新Q表），在s’上做决定时, 再基于更新后的Q表选择动作。而 Sarsa 是实践派，在s’ 这一步估算的动作也是接下来要执行的动作，所以 Q(s, a) 的现实值也会稍稍改动，去掉maxQ，取而代之的是在s’ 上实实在在选取的a’ 的Q值，最后像Q-Learning一样求出现实和估计的差距并更新Q表里的Q(s, a)。\n"
   ]
  },
  {
   "cell_type": "code",
   "execution_count": 1,
   "metadata": {},
   "outputs": [],
   "source": [
    "import numpy as np\n",
    "import matplotlib\n",
    "import matplotlib.pyplot as plt"
   ]
  },
  {
   "cell_type": "code",
   "execution_count": 2,
   "metadata": {},
   "outputs": [],
   "source": [
    "# 网格高度\n",
    "WORLD_HEIGHT = 7\n",
    "\n",
    "# 网格宽度\n",
    "WORLD_WIDTH = 10\n",
    "\n",
    "# 每一列风的强度\n",
    "WIND = [0, 0, 0, 1, 1, 1, 2, 2, 1, 0]\n",
    "\n",
    "# 可能执行的动作\n",
    "ACTION_UP = 0\n",
    "ACTION_DOWN = 1\n",
    "ACTION_LEFT = 2\n",
    "ACTION_RIGHT = 3\n",
    "\n",
    "# 探索率\n",
    "EPSILON = 0.1\n",
    "\n",
    "# Sarsa 步长\n",
    "ALPHA = 0.5\n",
    "\n",
    "# 每一步的奖励\n",
    "REWARD = -1.0\n",
    "\n",
    "# 起始点\n",
    "START = [4, 2]\n",
    "\n",
    "# 终点\n",
    "GOAL = [3, 6]\n",
    "\n",
    "# 动作集\n",
    "ACTIONS = [ACTION_UP, ACTION_DOWN, ACTION_LEFT, ACTION_RIGHT]\n",
    "ACTIONS_ARROW = ['↑', '↓', '←', '→']"
   ]
  },
  {
   "cell_type": "code",
   "execution_count": 3,
   "metadata": {},
   "outputs": [],
   "source": [
    "# 状态采取一个动作后到达下一个状态的位置\n",
    "def step(state, action):\n",
    "    i, j = state\n",
    "    if action == ACTION_UP:\n",
    "        return [max(i - 1 - WIND[j], 0), j]\n",
    "    elif action == ACTION_DOWN:\n",
    "        return [max(min(i + 1 - WIND[j], WORLD_HEIGHT - 1), 0), j]\n",
    "    elif action == ACTION_LEFT:\n",
    "        return [max(i - WIND[j], 0), max(j - 1, 0)]\n",
    "    elif action == ACTION_RIGHT:\n",
    "        return [max(i - WIND[j], 0), min(j + 1, WORLD_WIDTH - 1)]\n",
    "    else:\n",
    "        assert False"
   ]
  },
  {
   "cell_type": "code",
   "execution_count": 4,
   "metadata": {},
   "outputs": [],
   "source": [
    "# Sarsa算法\n",
    "def episode_Sarsa(q_value):\n",
    "    time = 0\n",
    "\n",
    "    # 初始化state\n",
    "    state = START\n",
    "\n",
    "    # 基于ε-greedy算法选择一个动作\n",
    "    if np.random.binomial(1, EPSILON) == 1:\n",
    "        # 以EPSILON探索新动作\n",
    "        action = np.random.choice(ACTIONS)\n",
    "    else:\n",
    "        values_ = q_value[state[0], state[1], :]\n",
    "        # 选择Q表中value最大的动作决策\n",
    "        action = np.random.choice([action_ for action_, value_ in enumerate(values_) if value_ == np.max(values_)])\n",
    "\n",
    "    while state != GOAL:\n",
    "        next_state = step(state, action)\n",
    "        if np.random.binomial(1, EPSILON) == 1:\n",
    "            next_action = np.random.choice(ACTIONS)\n",
    "        else:\n",
    "            values_ = q_value[next_state[0], next_state[1], :]\n",
    "            next_action = np.random.choice(\n",
    "                [action_ for action_, value_ in enumerate(values_) if value_ == np.max(values_)])\n",
    "\n",
    "        # Sarsa 更新\n",
    "        q_value[state[0], state[1], action] += \\\n",
    "            ALPHA * (REWARD + q_value[next_state[0], next_state[1], next_action] -\n",
    "                     q_value[state[0], state[1], action])\n",
    "        state = next_state\n",
    "        action = next_action\n",
    "        time += 1\n",
    "    return time\n"
   ]
  },
  {
   "cell_type": "code",
   "execution_count": 5,
   "metadata": {},
   "outputs": [],
   "source": [
    "# Q-learning算法\n",
    "def episode_Q(q_value):\n",
    "    time = 0\n",
    "\n",
    "    # 初始化state\n",
    "    state = START\n",
    "\n",
    "    while state != GOAL:\n",
    "        # 基于ε-greedy算法选择一个动作\n",
    "        if np.random.binomial(1, EPSILON) == 1:\n",
    "            # 以EPSILON探索新动作\n",
    "            action = np.random.choice(ACTIONS)\n",
    "        else:\n",
    "            values_ = q_value[state[0], state[1], :]\n",
    "            # 选择Q表中value最大的动作决策\n",
    "            action = np.random.choice([action_ for action_, value_ in enumerate(values_) if value_ == np.max(values_)])\n",
    "\n",
    "        next_state = step(state, action)\n",
    "\n",
    "        # Q-learning 更新\n",
    "        q_value[state[0], state[1], action] += \\\n",
    "            ALPHA * (REWARD + np.max(q_value[next_state[0], next_state[1], :]) -\n",
    "                     q_value[state[0], state[1], action])\n",
    "        state = next_state\n",
    "        time += 1\n",
    "    return time\n"
   ]
  },
  {
   "cell_type": "code",
   "execution_count": 8,
   "metadata": {},
   "outputs": [],
   "source": [
    "def run():\n",
    "    q_value_Sarsa = np.zeros((WORLD_HEIGHT, WORLD_WIDTH, 4))\n",
    "    q_value_Q = np.zeros((WORLD_HEIGHT, WORLD_WIDTH, 4))\n",
    "    episode_limit = 500\n",
    "\n",
    "    steps_Sarsa = []\n",
    "    steps_Q = []\n",
    "    ep = 0\n",
    "\n",
    "    while ep < episode_limit:\n",
    "        steps_Sarsa.append(episode_Sarsa(q_value_Sarsa))\n",
    "        steps_Q.append(episode_Q(q_value_Q))\n",
    "        ep += 1\n",
    "\n",
    "    steps_Sarsa = np.add.accumulate(steps_Sarsa)\n",
    "    plt.plot(steps_Sarsa, np.arange(1, len(steps_Sarsa) + 1), label='Sarsa')\n",
    "    steps_Q = np.add.accumulate(steps_Q)\n",
    "    plt.plot(steps_Q, np.arange(1, len(steps_Q) + 1), label='Q-learning')\n",
    "\n",
    "    plt.legend(loc='lower right')\n",
    "\n",
    "    plt.xlabel('Time steps')\n",
    "    plt.ylabel('Episodes')\n",
    "\n",
    "    plt.show()\n",
    "    plt.close()\n",
    "\n",
    "    # 输出最佳决策\n",
    "    optimal_policy = []\n",
    "    for i in range(0, WORLD_HEIGHT):\n",
    "        optimal_policy.append([])\n",
    "        for j in range(0, WORLD_WIDTH):\n",
    "            bestAction = np.argmax(q_value_Q[i, j, :])\n",
    "            if [i, j] == START:\n",
    "                optimal_policy[-1].append('S' + ACTIONS_ARROW[int(bestAction)])\n",
    "                continue\n",
    "            if [i, j] == GOAL:\n",
    "                optimal_policy[-1].append('G' + ACTIONS_ARROW[int(bestAction)])\n",
    "                continue\n",
    "            optimal_policy[-1].append(ACTIONS_ARROW[int(bestAction)])\n",
    "    print('最佳决策Q-learning:')\n",
    "    for row in optimal_policy:\n",
    "        print(row)\n",
    "    print('每一列风的强度:\\n{}'.format([str(w) for w in WIND]))\n",
    "\n",
    "    # 输出最佳决策\n",
    "    optimal_policy = []\n",
    "    for i in range(0, WORLD_HEIGHT):\n",
    "        optimal_policy.append([])\n",
    "        for j in range(0, WORLD_WIDTH):\n",
    "            bestAction = np.argmax(q_value_Sarsa[i, j, :])\n",
    "            if [i, j] == START:\n",
    "                optimal_policy[-1].append('S' + ACTIONS_ARROW[int(bestAction)])\n",
    "                continue\n",
    "            if [i, j] == GOAL:\n",
    "                optimal_policy[-1].append('G' + ACTIONS_ARROW[int(bestAction)])\n",
    "                continue\n",
    "            optimal_policy[-1].append(ACTIONS_ARROW[int(bestAction)])\n",
    "    print('最佳决策Sarsa:')\n",
    "    for row in optimal_policy:\n",
    "        print(row)\n",
    "    print('每一列风的强度:\\n{}'.format([str(w) for w in WIND]))"
   ]
  },
  {
   "cell_type": "code",
   "execution_count": 9,
   "metadata": {},
   "outputs": [
    {
     "data": {
      "image/png": "[encoded data removed]",
      "text/plain": [
       "<Figure size 432x288 with 1 Axes>"
      ]
     },
     "metadata": {
      "needs_background": "light"
     },
     "output_type": "display_data"
    },
    {
     "name": "stdout",
     "output_type": "stream",
     "text": [
      "最佳决策Q-learning:\n",
      "['←', '←', '↓', '←', '←', '←', '→', '↑', '→', '↓']\n",
      "['↓', '↓', '↓', '↓', '←', '↓', '↑', '→', '↓', '↓']\n",
      "['↓', '↓', '↓', '←', '↓', '↓', '↓', '↑', '↓', '↓']\n",
      "['↓', '↓', '↓', '↓', '←', '↓', 'G↑', '→', '↓', '↓']\n",
      "['↓', '↓', 'S↓', '←', '↓', '→', '↑', '←', '↓', '↓']\n",
      "['←', '↓', '↓', '←', '→', '↑', '↑', '←', '↓', '↓']\n",
      "['→', '→', '→', '→', '↑', '↑', '↑', '↑', '←', '←']\n",
      "每一列风的强度:\n",
      "['0', '0', '0', '1', '1', '1', '2', '2', '1', '0']\n",
      "最佳决策Sarsa:\n",
      "['↓', '→', '↑', '↑', '←', '→', '→', '→', '→', '↓']\n",
      "['→', '→', '←', '←', '↑', '↑', '→', '→', '↓', '↓']\n",
      "['↑', '↓', '↓', '←', '↓', '→', '↓', '→', '←', '↓']\n",
      "['→', '→', '↓', '↓', '↓', '↓', 'G↑', '→', '←', '↓']\n",
      "['→', '→', 'S↓', '←', '→', '→', '↑', '→', '←', '↓']\n",
      "['→', '↓', '↓', '↑', '→', '↑', '↑', '←', '←', '↓']\n",
      "['→', '→', '→', '→', '↑', '↑', '↑', '↑', '←', '←']\n",
      "每一列风的强度:\n",
      "['0', '0', '0', '1', '1', '1', '2', '2', '1', '0']\n"
     ]
    }
   ],
   "source": [
    "run()"
   ]
  }
 ],
 "metadata": {
  "kernelspec": {
   "display_name": "Python 3",
   "language": "python",
   "name": "python3"
  },
  "language_info": {
   "codemirror_mode": {
    "name": "ipython",
    "version": 3
   },
   "file_extension": ".py",
   "mimetype": "text/x-python",
   "name": "python",
   "nbconvert_exporter": "python",
   "pygments_lexer": "ipython3",
   "version": "3.7.3"
  }
 },
 "nbformat": 4,
 "nbformat_minor": 4
}
